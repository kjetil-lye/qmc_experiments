{
 "cells": [
  {
   "cell_type": "code",
   "execution_count": 3,
   "metadata": {
    "collapsed": true
   },
   "outputs": [],
   "source": [
    "# %load defaults.ipy\n",
    "# %load defaults.ipy\n",
    "import sys\n",
    "for p in sys.path:\n",
    "    if 'netcdf' in p.lower():\n",
    "        sys.path.remove(p)\n",
    "    if 'matplotlib' in p.lower():\n",
    "        sys.path.remove(p)\n",
    "from numpy import *\n",
    "import matplotlib\n",
    "matplotlib.rcParams['savefig.dpi'] = 200\n",
    "%matplotlib inline\n",
    "import matplotlib.pyplot as plt\n",
    "import netCDF4\n",
    "from IPython.core.display import display, HTML\n",
    "import matplotlib2tikz\n",
    "import PIL\n",
    "\n",
    "\n",
    "\n",
    "def writeMetadata(filename, data):\n",
    "    im = PIL.Image.open(filename)\n",
    "    \n",
    "    meta = PIL.PngImagePlugin.PngInfo()\n",
    "\n",
    "    for key in data.keys():\n",
    "        meta.add_text(key, data[key])\n",
    "    im.save(filename, \"png\", pnginfo=meta)\n",
    "    \n",
    "def showAndSave(name):\n",
    "    fig = plt.gcf()\n",
    "    ax = plt.gca()\n",
    "    ax.text(0.95, 0.01, 'By Kjetil Olsen Lye\\nkjetil.o.lye@gmail.com',\n",
    "         fontsize=3, color='gray',\n",
    "         ha='right', va='bottom', alpha=0.5, transform=ax.transAxes)\n",
    "\n",
    "    matplotlib2tikz.save(name + '.tikz',\n",
    "           figureheight = '\\\\figureheight',\n",
    "           figurewidth = '\\\\figurewidth')\n",
    "    \n",
    "    savenamepng = name + '.png'\n",
    "    plt.savefig(savenamepng)\n",
    "    \n",
    "    writeMetadata(savenamepng, {'Copyright' : 'Copyright, Kjetil Olsen Lye kjetil.o.lye@gmail.com'\n",
    "                               })\n",
    "    plt.show()"
   ]
  },
  {
   "cell_type": "code",
   "execution_count": 4,
   "metadata": {
    "collapsed": true
   },
   "outputs": [],
   "source": [
    "import sys\n",
    "sys.path.append(\"/cluster/home/klye/alsvinn/build/python/\")\n",
    "\n",
    "import alsvinn"
   ]
  },
  {
   "cell_type": "code",
   "execution_count": null,
   "metadata": {
    "collapsed": true
   },
   "outputs": [],
   "source": []
  },
  {
   "cell_type": "code",
   "execution_count": 9,
   "metadata": {
    "collapsed": true
   },
   "outputs": [],
   "source": [
    "import re\n",
    "def computeConvergence(basename, showSingle=False):\n",
    "    name = re.search(r'sine_(.+)\\/', basename).group(1)\n",
    "    print(basename)\n",
    "    name = name.replace(\"_\", \" \").title()\n",
    "    \n",
    "    N = 128\n",
    "    display(HTML(\"<h1>%s</h1>\" % name))\n",
    "    try:\n",
    "        r = alsvinn.run(name='test', base_xml=basename, dimension=[N,1,1], uq=True, samples=4096)\n",
    "    except Exception as e:\n",
    "        print(\"%s failed, see error message below: \" % name)\n",
    "        print (e)\n",
    "        return\n",
    "    Ms = 2**array(range(3,13))\n",
    "    \n",
    "    for t in [0,1]:\n",
    "        plt.figure(t)\n",
    "        errors = []\n",
    "        for M in Ms:\n",
    "            mean = zeros((N))\n",
    "            for k in range(M):\n",
    "                mean += r.get_data('u', timestep=t, sample=k)\n",
    "            mean /= M\n",
    "            \n",
    "            if M > Ms[0]:\n",
    "                errors.append(sqrt(sum(abs(mean-meanPrev)**2)/mean.shape[0]))\n",
    "            meanPrev = mean\n",
    "            if showSingle:\n",
    "                x = linspace(0,1,N)\n",
    "                plt.plot(x,mean)\n",
    "                plt.xlabel('$\\mathbb{E}(u(x,%d))$' % t)\n",
    "                plt.ylabel('$x$')\n",
    "                plt.title('$M=%d$' % M)\n",
    "                plt.show()\n",
    "        plt.loglog(Ms[:-1], errors, '-o',label=name)\n",
    "        poly = polyfit(log(Ms[1:]), log(errors), 1)\n",
    "        \n",
    "        plt.loglog(Ms, exp(poly[1])*Ms**poly[0], '--', label='$O(M^{%.3f})$' % poly[0])\n",
    "        plt.xlabel(\"M\")\n",
    "        plt.ylabel(\"Error\")\n",
    "        \n",
    "        if not showSingle:\n",
    "            plt.title(\"Cauchy convergence at $T=%d$ (normalized time)\" % t)\n",
    "        plt.legend()\n",
    "        if showSingle:\n",
    "            \n",
    "            plt.title(\"Cauchy Convergence for %s at $T=%d$ (normalized time)\" % (name,t))\n",
    "            plt.show()\n",
    "    \n",
    "    for t in [0,1]:\n",
    "        errors = []\n",
    "        plt.figure(2+t)\n",
    "        referenceSolution = zeros((N))\n",
    "        for k in range(Ms[-1]):\n",
    "            referenceSolution += r.get_data('u', timestep=t, sample=k)\n",
    "        for M in Ms[:-1]:\n",
    "            mean = zeros((N))\n",
    "            for k in range(M):\n",
    "                mean += r.get_data('u', timestep=t, sample=k)\n",
    "            mean /= M\n",
    "            \n",
    "            \n",
    "            errors.append(sqrt(sum(abs(mean-referenceSolution)**2)/mean.shape[0]))\n",
    "           \n",
    "        plt.loglog(Ms[:-1], errors, '-o',label=name)\n",
    "        poly = polyfit(log(Ms[1:]), log(errors), 1)\n",
    "        \n",
    "        plt.loglog(Ms, exp(poly[1])*Ms**poly[0], '--', label='$O(M^{%.3f})$' % poly[0])\n",
    "        plt.xlabel(\"M\")\n",
    "        plt.ylabel(\"Error\")\n",
    "        if not showSingle:\n",
    "            plt.title(\"Convergence against reference solution\\n$T=%d$ (normalized time)\" % t)\n",
    "        \n",
    "        plt.legend()\n",
    "        if showSingle:\n",
    "            plt.title(\"Convergence for %s at $T=%d$ (normalized time)\\nagainst reference solution\" % (name,t))\n",
    "            plt.show()"
   ]
  },
  {
   "cell_type": "code",
   "execution_count": null,
   "metadata": {
    "scrolled": true
   },
   "outputs": [
    {
     "name": "stdout",
     "output_type": "stream",
     "text": [
      "../configs/sine_latin_random/sine.xml\n"
     ]
    },
    {
     "data": {
      "text/html": [
       "<h1>Latin Random</h1>"
      ],
      "text/plain": [
       "<IPython.core.display.HTML object>"
      ]
     },
     "metadata": {},
     "output_type": "display_data"
    }
   ],
   "source": [
    "import glob\n",
    "\n",
    "for basename in glob.glob(\"../configs/sine_*\"):\n",
    "    computeConvergence(basename + \"/sine.xml\")"
   ]
  },
  {
   "cell_type": "code",
   "execution_count": null,
   "metadata": {
    "collapsed": true
   },
   "outputs": [],
   "source": [
    "import glob\n",
    "\n",
    "for basename in glob.glob(\"../configs/sine_*\"):\n",
    "    computeConvergence(basename + \"/sine.xml\", True)"
   ]
  }
 ],
 "metadata": {
  "kernelspec": {
   "display_name": "Python 3",
   "language": "python",
   "name": "python3"
  },
  "language_info": {
   "codemirror_mode": {
    "name": "ipython",
    "version": 3
   },
   "file_extension": ".py",
   "mimetype": "text/x-python",
   "name": "python",
   "nbconvert_exporter": "python",
   "pygments_lexer": "ipython3",
   "version": "3.6.4"
  }
 },
 "nbformat": 4,
 "nbformat_minor": 2
}
